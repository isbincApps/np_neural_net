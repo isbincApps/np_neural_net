{
  "nbformat": 4,
  "nbformat_minor": 0,
  "metadata": {
    "colab": {
      "name": "np_image_classification.ipynb",
      "provenance": []
    },
    "kernelspec": {
      "name": "python3",
      "display_name": "Python 3"
    }
  },
  "cells": [
    {
      "cell_type": "code",
      "metadata": {
        "id": "8eKXXjsB_dWC",
        "colab_type": "code",
        "colab": {}
      },
      "source": [
        "import numpy as np \n",
        "import matplotlib.pyplot as plt \n",
        "import cv2\n",
        "import glob\n",
        "from google.colab import files\n",
        "import os\n"
      ],
      "execution_count": 0,
      "outputs": []
    },
    {
      "cell_type": "code",
      "metadata": {
        "id": "Y6hD5zTY_2Zm",
        "colab_type": "code",
        "colab": {
          "resources": {
            "http://localhost:8080/nbextensions/google.colab/files.js": {
              "data": "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",
              "ok": true,
              "headers": [
                [
                  "content-type",
                  "application/javascript"
                ]
              ],
              "status": 200,
              "status_text": ""
            }
          },
          "base_uri": "https://localhost:8080/",
          "height": 110
        },
        "outputId": "368a288a-e124-4fa8-e80f-393f84576ff8"
      },
      "source": [
        "!pip install -U -q kaggle\n",
        "!mkdir  /root/.kaggle\n",
        "\n",
        "files.upload()"
      ],
      "execution_count": 4,
      "outputs": [
        {
          "output_type": "stream",
          "text": [
            "mkdir: cannot create directory ‘/root/.kaggle’: File exists\n"
          ],
          "name": "stdout"
        },
        {
          "output_type": "display_data",
          "data": {
            "text/html": [
              "\n",
              "     <input type=\"file\" id=\"files-31f6a207-deea-4894-b143-e61655d8e89b\" name=\"files[]\" multiple disabled />\n",
              "     <output id=\"result-31f6a207-deea-4894-b143-e61655d8e89b\">\n",
              "      Upload widget is only available when the cell has been executed in the\n",
              "      current browser session. Please rerun this cell to enable.\n",
              "      </output>\n",
              "      <script src=\"/nbextensions/google.colab/files.js\"></script> "
            ],
            "text/plain": [
              "<IPython.core.display.HTML object>"
            ]
          },
          "metadata": {
            "tags": []
          }
        },
        {
          "output_type": "stream",
          "text": [
            "Saving kaggle.json to kaggle.json\n"
          ],
          "name": "stdout"
        },
        {
          "output_type": "execute_result",
          "data": {
            "text/plain": [
              "{'kaggle.json': b'{\"username\":\"isbincapps\",\"key\":\"732d557bead1d64a89650c03d51b38cf\"}'}"
            ]
          },
          "metadata": {
            "tags": []
          },
          "execution_count": 4
        }
      ]
    },
    {
      "cell_type": "code",
      "metadata": {
        "id": "sAPrsDc8AL4s",
        "colab_type": "code",
        "colab": {
          "base_uri": "https://localhost:8080/",
          "height": 107
        },
        "outputId": "77d6b9c8-17a6-4b4c-a77a-d9a32fa40786"
      },
      "source": [
        "!cp kaggle.json /root/.kaggle\n",
        "!kaggle datasets download -d fpeccia/weed-detection-in-soybean-crops"
      ],
      "execution_count": 5,
      "outputs": [
        {
          "output_type": "stream",
          "text": [
            "Warning: Your Kaggle API key is readable by other users on this system! To fix this, you can run 'chmod 600 /root/.kaggle/kaggle.json'\n",
            "Downloading weed-detection-in-soybean-crops.zip to /content\n",
            "100% 2.37G/2.37G [00:43<00:00, 28.3MB/s]\n",
            "\n"
          ],
          "name": "stdout"
        }
      ]
    },
    {
      "cell_type": "code",
      "metadata": {
        "id": "JLX0QLaDCacg",
        "colab_type": "code",
        "colab": {}
      },
      "source": [
        "!apt install pv\n",
        "!unzip -o /content/weed-detection-in-soybean-crops.zip  | pv -l >/dev/null\n",
        "os.remove('weed-detection-in-soybean-crops.zip')"
      ],
      "execution_count": 0,
      "outputs": []
    },
    {
      "cell_type": "code",
      "metadata": {
        "id": "Z4ATKl-eDqgv",
        "colab_type": "code",
        "colab": {}
      },
      "source": [
        "data_dir = './dataset/dataset/'\n",
        "classes = ['broadleaf', 'grass', 'soil', 'soybean'] \n",
        "\n",
        "num_file = 1100 \n",
        "all_files = [] \n",
        "num_data =num_file*len(classes)\n",
        "print('el numdata', num_data)\n",
        "Y = np.zeros(num_data)\n",
        "\n",
        "\n",
        "for i, cls in enumerate(classes):\n",
        "    all_files += [f for f in glob.glob(data_dir+cls+'/*.tif')][:num_file]\n",
        "    Y[i*num_file:(i+1)*num_file] = i # label all classes with int [0.. len(classes)]\n",
        "\n",
        "    \n",
        "# Image dimension\n",
        "print('el Y', Y)\n",
        "im_width = 200\n",
        "im_height = 200 \n",
        "im_channel = 3\n",
        "dim = im_width * im_height * im_channel"
      ],
      "execution_count": 0,
      "outputs": []
    },
    {
      "cell_type": "code",
      "metadata": {
        "id": "bqaLuGk8EdZ-",
        "colab_type": "code",
        "colab": {}
      },
      "source": [
        "X = np.ndarray(shape=(num_data, im_width, im_height, im_channel), dtype=np.float64)\n",
        "\n",
        "for idx, file in enumerate(all_files):\n",
        "    X[idx] = cv2.resize(cv2.imread(file), (im_width, im_height))\n",
        "\n",
        "X_train = np.empty(shape=(4000,im_width, im_height, im_channel), dtype=np.float64)\n",
        "X_val = np.empty(shape=(200,im_width, im_height, im_channel), dtype=np.float64)\n",
        "X_test = np.empty(shape=(200,im_width, im_height, im_channel), dtype=np.float64)\n",
        "\n",
        "y_train = np.empty(4000)\n",
        "y_val = np.empty(200)\n",
        "y_test = np.empty(200) "
      ],
      "execution_count": 0,
      "outputs": []
    },
    {
      "cell_type": "code",
      "metadata": {
        "id": "csW7doqxElTi",
        "colab_type": "code",
        "colab": {}
      },
      "source": [
        "for i, cls in enumerate(classes):\n",
        "    X_test[50*i:50*(i+1)] = X[np.where(Y == i)[0][:50]]\n",
        "    X_val[50*i:50*(i+1)] = X[np.where(Y == i)[0][50:100]]\n",
        "    X_train[1000*i:1000*(i+1)] = X[np.where(Y == i)[0][100:]]\n",
        "    \n",
        "    y_test[50*i:50*(i+1)] = i\n",
        "    y_val[50*i:50*(i+1)] = i\n",
        "    y_train[1000*i:1000*(i+1)] = i\n",
        "    \n",
        "del Y \n",
        "del X"
      ],
      "execution_count": 0,
      "outputs": []
    },
    {
      "cell_type": "code",
      "metadata": {
        "id": "UCAiCB4IFiQi",
        "colab_type": "code",
        "colab": {
          "base_uri": "https://localhost:8080/",
          "height": 121
        },
        "outputId": "932a4991-eb62-4a01-ab84-bd2705ecd1a8"
      },
      "source": [
        "train_idxs = np.random.permutation(X_train.shape[0])\n",
        "y_train  = y_train[train_idxs].astype(int)\n",
        "X_train = X_train[train_idxs]\n",
        "\n",
        "X_train = np.reshape(X_train, (X_train.shape[0], -1)).astype('float64')\n",
        "X_test = np.reshape(X_test, (X_test.shape[0], -1)).astype('float64')\n",
        "X_val = np.reshape(X_val, (X_val.shape[0], -1)).astype('float64')\n",
        "\n",
        "X_tiny = X_train[100:110].astype('float64')\n",
        "y_tiny = y_train[100:110].astype(int)\n",
        "num_dev = 500\n",
        "\n",
        "X_dev = X_train[0:num_dev].astype('float64')\n",
        "y_dev = y_train[0:num_dev].astype(int)\n",
        "print(\"X_train shape\", X_train.shape, \"| y_train shape:\", y_train.shape)\n",
        "print(\"X_test shape\", X_test.shape, \"| y_test shape:\", y_test.shape)\n",
        "print(\"X_val shape\", X_val.shape, \"| y_val shape:\", y_val.shape)\n",
        "print(\"X_dev shape\", X_dev.shape, \"| y_dev shape:\", y_dev.shape)\n",
        "print(\"X_tiny shape\", X_tiny.shape, \"| y_tiny shape:\", y_tiny.shape)"
      ],
      "execution_count": 13,
      "outputs": [
        {
          "output_type": "stream",
          "text": [
            "el shape 4000\n",
            "X_train shape (4000, 120000) | y_train shape: (4000,)\n",
            "X_test shape (200, 120000) | y_test shape: (200,)\n",
            "X_val shape (200, 120000) | y_val shape: (200,)\n",
            "X_dev shape (500, 120000) | y_dev shape: (500,)\n",
            "X_tiny shape (10, 120000) | y_tiny shape: (10,)\n"
          ],
          "name": "stdout"
        }
      ]
    },
    {
      "cell_type": "code",
      "metadata": {
        "id": "lZo0LCqpGMhy",
        "colab_type": "code",
        "colab": {
          "base_uri": "https://localhost:8080/",
          "height": 121
        },
        "outputId": "3f148a31-eb3a-4e12-806b-860239ed1d10"
      },
      "source": [
        "mean_image = 128\n",
        "X_train -= mean_image\n",
        "X_val -= mean_image \n",
        "X_test -= mean_image\n",
        "X_dev -= mean_image\n",
        "X_tiny -= mean_image\n",
        "\n",
        "print('=====STACK BIAS term=====')\n",
        "print(\"X_train shape\", X_train.shape)\n",
        "print(\"X_test shape\", X_test.shape)\n",
        "print(\"X_val shape\", X_val.shape)\n",
        "print(\"X_dev shape\", X_dev.shape)\n",
        "print(\"X_tiny shape\", X_tiny.shape)"
      ],
      "execution_count": 14,
      "outputs": [
        {
          "output_type": "stream",
          "text": [
            "=====STACK BIAS term=====\n",
            "X_train shape (4000, 120000)\n",
            "X_test shape (200, 120000)\n",
            "X_val shape (200, 120000)\n",
            "X_dev shape (500, 120000)\n",
            "X_tiny shape (10, 120000)\n"
          ],
          "name": "stdout"
        }
      ]
    },
    {
      "cell_type": "code",
      "metadata": {
        "id": "gV1fmcmfGaE9",
        "colab_type": "code",
        "colab": {}
      },
      "source": [
        "class TwoLayerNet():\n",
        "    def __init__(self, input_size, hidden_size, output_size, std= 1e-4):\n",
        "        '''\n",
        "        std: weight initialization term\n",
        "        W1: first layer weight, shape(D x H) \n",
        "        W2: second layer weight shape(H x C) \n",
        "        C: num_classes(output_size) , H: hidden_size, D: data_dim(input_size) \n",
        "        '''\n",
        "        self.params = {}\n",
        "        self.params['W1'] = std * np.random.randn(input_size, hidden_size)\n",
        "        self.params['b1'] = np.zeros(hidden_size)\n",
        "        self.params['W2'] = std * np.random.randn(hidden_size, output_size)\n",
        "        self.params['b2'] = np.zeros(output_size)\n",
        "     \n",
        "    def loss(self, X, y = None, reg=0.0):\n",
        "        '''\n",
        "        reg: regularization strength\n",
        "        X: ndarray shape(N x C). N: num of data \n",
        "        y: vector of training label\n",
        "        '''\n",
        "        #DEfine relu activation function \n",
        "        relu = lambda x:np.maximum(0,x)\n",
        "\n",
        "        #unpack\n",
        "        W1, b1 = self.params['W1'], self.params['b1']\n",
        "        W2, b2 = self.params['W2'], self.params['b2']\n",
        "        N, D = X.shape\n",
        "\n",
        "        #Forward prop\n",
        "        layer1 = relu(X.dot(W1) + b1)  #(N,D) x (D,H) = (N,H)\n",
        "        scores = layer1.dot(W2) + b2\n",
        "        \n",
        "        if(y is None): \n",
        "            return scores\n",
        "\n",
        "        #compute the loss \n",
        "        ##Normalization trick to prevent overflow when compute exp \n",
        "        scores -= scores.max()#stack vertically\n",
        "\n",
        "        scores = np.exp(scores)\n",
        "        scores_sumexp = np.sum(scores, axis=1)#stack vertically\n",
        "\n",
        "        ##Nomalize all score \n",
        "        softmax = scores / scores_sumexp.reshape(N,1)  #Shape: (N, C)\n",
        "        #total loss of all training. -log of all correct score\n",
        "        loss =  (-1.0) * np.sum(np.log(softmax[range(N),y]))\n",
        "\n",
        "        ##Normalize the loss and add regularization strength \n",
        "        loss /= N \n",
        "        loss += reg * np.sum(W1 * W1) \n",
        "        loss += reg * np.sum(W2 * W2)\n",
        "        \n",
        "        grads = {}\n",
        "        correct_class_scores = scores[range(N), y]\n",
        "        softmax[range(N), y] = (-1.0) * (scores_sumexp - correct_class_scores)/scores_sumexp\n",
        "        softmax /= N\n",
        "\n",
        "\n",
        "        #Want to find dW2(dL/dW2)\n",
        "        # Derivation: dL/dW2 = dL/dscore * dscore/dW2(chain rule)\n",
        "        #dL/dscore = softmax since L(score) = softmax(variable)\n",
        "        #dscore/dW2 = relu_(hidden layer output)\n",
        "        grads['W2'] = layer1.T.dot(softmax)\n",
        "        grads['b2'] = np.sum(softmax, axis=0)#stack horizontally\n",
        "        grads['W2'] += reg * 2 * W2\n",
        "\n",
        "        #dL/dW1 = dL/dscore * dscore/drelu(layler1) * drelu(layer1)/dW1 \n",
        "        #dL/dW1 = dW1 = softmax * W2 * X \n",
        "        hidden = softmax.dot(W2.T)\n",
        "        hidden[layer1 == 0] = 0 \n",
        "\n",
        "        grads['W1'] = X.T.dot(hidden) \n",
        "        grads['b1'] = np.sum(hidden, axis=0) #stack horizontally \n",
        "        grads['W1'] += reg * 2 * W1\n",
        "\n",
        "        return loss, grads\n",
        "      \n",
        "    def train(self, X, y, X_val, y_val, \n",
        "              learning_rate =1e-3, learning_rate_decay=0.95, \n",
        "              reg=5e-6, num_iters=100, \n",
        "              batch_size=200, it_verbose = 1, verbose=False):\n",
        "        '''\n",
        "        Train using SGD \n",
        "        Input: \n",
        "            X: nd array shape(N x D) \n",
        "            y: vector of train label \n",
        "            X_val: nd array shape( n_VAL , D) Use as validation set after each epoch \n",
        "            y_val: vector of validation label \n",
        "        '''\n",
        "        N, D = X.shape\n",
        "        N_val = X_val.shape[0]\n",
        "        iteration_per_epoch = max(N/batch_size, 1)\n",
        "        \n",
        "        loss_hist = []\n",
        "        train_acc_hist = []\n",
        "        val_acc_hist = []\n",
        "        for it in range(num_iters):\n",
        "            sampling = np.random.choice(np.arange(N), batch_size, replace=False) \n",
        "            X_batch = X[sampling]\n",
        "            y_batch = y[sampling]\n",
        "            \n",
        "            #compute loss and gradients\n",
        "            loss, grads = self.loss(X_batch, y=y_batch, reg=reg)\n",
        "            loss_hist.append(loss) \n",
        "            \n",
        "            #Update rule \n",
        "            self.params['W1'] += (-1.0) * learning_rate * grads['W1']\n",
        "            self.params['b1'] += (-1.0) * learning_rate * grads['b1']\n",
        "            self.params['W2'] += (-1.0) * learning_rate * grads['W2']\n",
        "            self.params['b2'] += (-1.0) * learning_rate * grads['b2']\n",
        "            \n",
        "            if(verbose and it%it_verbose==0):\n",
        "                print('iteration: %d / %d | Loss: %f' % (it, num_iters, loss))\n",
        "                \n",
        "            if (it % iteration_per_epoch == 0):\n",
        "                # Check accuracy\n",
        "                train_acc = (self.predict(X_batch) == y_batch).mean()\n",
        "                val_acc = (self.predict(X_val) == y_val).mean()\n",
        "                train_acc_hist.append(train_acc)\n",
        "                val_acc_hist.append(val_acc)\n",
        "\n",
        "                # Decay learning rate\n",
        "                learning_rate *= learning_rate_decay\n",
        "            \n",
        "        return {\n",
        "            'loss_hist':loss_hist,\n",
        "            'train_acc_hist':train_acc_hist,\n",
        "            'val_acc_hist':val_acc_hist\n",
        "        }\n",
        "      \n",
        "    def predict(self, X):\n",
        "        y_pred = None\n",
        "        relu = lambda x:np.maximum(0,x)\n",
        "        # Unpack variables from the params dictionary\n",
        "        W1, b1 = self.params['W1'], self.params['b1']\n",
        "        W2, b2 = self.params['W2'], self.params['b2']\n",
        "\n",
        "        #Forward propagation though the network \n",
        "        layer1 = relu(X.dot(W1) + b1)\n",
        "        scores = layer1.dot(W2) + b2 #shape: (N x C)\n",
        "        y_pred = np.argmax(scores, axis=1)\n",
        "\n",
        "        return y_pred"
      ],
      "execution_count": 0,
      "outputs": []
    },
    {
      "cell_type": "code",
      "metadata": {
        "id": "5Fc13nvKJJy_",
        "colab_type": "code",
        "colab": {
          "base_uri": "https://localhost:8080/",
          "height": 139
        },
        "outputId": "8141c7ac-ea30-42ae-fc32-be77a00fa282"
      },
      "source": [
        "classes = ['broadleaf', 'grass', 'soil', 'soybean']\n",
        "n_class = len(classes)\n",
        "input_size = im_width * im_height * im_channel\n",
        "hidden_size = 200\n",
        "output_size = n_class \n",
        "std = 1e-3 # size initialization parameter\n",
        "\n",
        "net = TwoLayerNet(input_size, hidden_size,output_size,std )\n",
        "stats = net.train(X_dev, y_dev, X_val, y_val, \n",
        "              learning_rate =1e-5, learning_rate_decay=0.95, \n",
        "              reg=0.0, num_iters=70, \n",
        "              batch_size=100, it_verbose = 10,verbose=True)"
      ],
      "execution_count": 18,
      "outputs": [
        {
          "output_type": "stream",
          "text": [
            "iteration: 0 / 70 | Loss: 1.359959\n",
            "iteration: 10 / 70 | Loss: 1.358933\n",
            "iteration: 20 / 70 | Loss: 1.285148\n",
            "iteration: 30 / 70 | Loss: 1.231507\n",
            "iteration: 40 / 70 | Loss: 1.218687\n",
            "iteration: 50 / 70 | Loss: 1.187873\n",
            "iteration: 60 / 70 | Loss: 1.103376\n"
          ],
          "name": "stdout"
        }
      ]
    },
    {
      "cell_type": "code",
      "metadata": {
        "id": "k9836TTIK85R",
        "colab_type": "code",
        "colab": {
          "base_uri": "https://localhost:8080/",
          "height": 913
        },
        "outputId": "3b9a4264-c8f8-45e6-e0aa-aae10455d784"
      },
      "source": [
        "plt.rcParams['figure.figsize'] = (15.0, 15.0) # set default size of plots\n",
        "plt.subplot(2,1,1) \n",
        "plt.plot(stats['loss_hist'])\n",
        "plt.title('Loss History')\n",
        "plt.xlabel('Iteration')\n",
        "plt.ylabel('Loss')\n",
        "\n",
        "plt.subplot(2,1,2)\n",
        "plt.plot(stats['train_acc_hist'], label='train')\n",
        "plt.plot(stats['val_acc_hist'], label='val')\n",
        "plt.xlabel('Epoch')\n",
        "plt.ylabel('Classfication Accuracies')\n",
        "plt.legend()\n",
        "plt.show()"
      ],
      "execution_count": 19,
      "outputs": [
        {
          "output_type": "display_data",
          "data": {
            "image/png": "[encoded data removed]",
            "text/plain": [
              "<Figure size 1080x1080 with 2 Axes>"
            ]
          },
          "metadata": {
            "tags": []
          }
        }
      ]
    },
    {
      "cell_type": "code",
      "metadata": {
        "id": "-lp-RRxMLfzk",
        "colab_type": "code",
        "colab": {
          "base_uri": "https://localhost:8080/",
          "height": 35
        },
        "outputId": "72714482-846d-4a45-fa48-c83b5ef44154"
      },
      "source": [
        "print((net.predict(X_test) == y_test).mean())"
      ],
      "execution_count": 20,
      "outputs": [
        {
          "output_type": "stream",
          "text": [
            "0.525\n"
          ],
          "name": "stdout"
        }
      ]
    },
    {
      "cell_type": "code",
      "metadata": {
        "id": "vxSsAKcoLg_j",
        "colab_type": "code",
        "colab": {
          "base_uri": "https://localhost:8080/",
          "height": 156
        },
        "outputId": "2f7548db-6611-41ad-b114-b54af1dcafed"
      },
      "source": [
        "best_net = None # store the best model into this \n",
        "best_val= -1 #highest validation accuracy\n",
        "\n",
        "\n",
        "hidden_unit = [200]\n",
        "learn_rates = [7.6e-5]\n",
        "regularizations = [0.0]\n",
        "iterations = [600]\n",
        "\n",
        "result = {}\n",
        "best_stats = None\n",
        "\n",
        "input_size = im_height * im_width * im_channel # \n",
        "output_size = 4 #4 class\n",
        "\n",
        "for hidden in hidden_unit: \n",
        "    for learn in learn_rates:\n",
        "        for r in regularizations:\n",
        "            for iter in iterations:\n",
        "                tune_net = TwoLayerNet(input_size,\n",
        "                                       hidden_size=hidden,\n",
        "                                       output_size=output_size,std=1e-3)\n",
        "                stats = tune_net.train(X_train, y_train, X_val, y_val, \n",
        "                              num_iters=iter, batch_size=200, \n",
        "                              learning_rate=learn,learning_rate_decay=0.94, \n",
        "                              reg=r,  it_verbose = 100,verbose=True)\n",
        "                train_acc = stats['train_acc_hist'][-1]#get last value \n",
        "                val_acc = stats['val_acc_hist'][-1]\n",
        "                result[(hidden, learn)] = (train_acc, val_acc)\n",
        "                #print log\n",
        "                print('hs:',hidden,'learn:',learn,'reg',r,'iter',iter,'train-acc:',train_acc,'val_acc',val_acc)\n",
        "                if(val_acc > best_val):\n",
        "                    best_val = val_acc\n",
        "                    #create best net\n",
        "                    best_stats = stats\n",
        "                    best_net = tune_net\n",
        "                del tune_net\n",
        "                del stats\n",
        "                \n",
        "print(\"Accuracy on Test set\", (best_net.predict(X_test) == y_test).mean())                    \n"
      ],
      "execution_count": 21,
      "outputs": [
        {
          "output_type": "stream",
          "text": [
            "iteration: 0 / 600 | Loss: 1.418748\n",
            "iteration: 100 / 600 | Loss: 0.741664\n",
            "iteration: 200 / 600 | Loss: 0.503810\n",
            "iteration: 300 / 600 | Loss: 0.623176\n",
            "iteration: 400 / 600 | Loss: 0.518542\n",
            "iteration: 500 / 600 | Loss: 0.415974\n",
            "hs: 200 learn: 7.6e-05 reg 0.0 iter 600 train-acc: 0.8 val_acc 0.705\n",
            "Accuracy on Test set 0.73\n"
          ],
          "name": "stdout"
        }
      ]
    }
  ]
}